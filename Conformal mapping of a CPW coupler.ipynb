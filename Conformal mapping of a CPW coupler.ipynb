{
 "cells": [
  {
   "cell_type": "code",
   "execution_count": 11,
   "metadata": {
    "collapsed": true
   },
   "outputs": [],
   "source": [
    "from __future__ import print_function\n",
    "from matplotlib import pyplot as plt\n",
    "import numpy as np\n",
    "import scipy.integrate as integrate\n",
    "from scipy.optimize import root\n",
    "from scipy.constants import epsilon_0, mu_0\n",
    "%matplotlib inline"
   ]
  },
  {
   "cell_type": "markdown",
   "metadata": {},
   "source": [
    "# Branch points in a coplanar waveguide coupler"
   ]
  },
  {
   "cell_type": "code",
   "execution_count": 2,
   "metadata": {
    "collapsed": true
   },
   "outputs": [],
   "source": [
    "# 2 coplanar waveguides on the real axis\n",
    "def z_branch_points_cpw(s1,s2,w1,w2,w3):\n",
    "    z_B = 0\n",
    "    z_C = z_B+s2\n",
    "    z_D = z_C+w2\n",
    "    z_E = z_D+s2\n",
    "    z_F = z_E+w3\n",
    "    z_G = z_F+s1\n",
    "    z_H = z_G+w1\n",
    "    z_I = z_H+s1    \n",
    "    return [np.complex(x) for x in [z_B, z_C, z_D, z_E, z_F, z_G, z_H, z_I]]"
   ]
  },
  {
   "cell_type": "markdown",
   "metadata": {},
   "source": [
    "# Conformal transformation of the planar structure to a rectangle"
   ]
  },
  {
   "cell_type": "code",
   "execution_count": 3,
   "metadata": {
    "collapsed": true
   },
   "outputs": [],
   "source": [
    "def conformal_transform_difference_by_parts(z0,z1,branch_point1,branch_point2,branch_points,zero_points):\n",
    "    # 1) solving integral part (positive)\n",
    "    f1 = lambda z: np.log(z-(branch_points[branch_point1] + branch_points[branch_point2])/2 + \\\n",
    "                       np.sqrt((z-branch_points[branch_point1])*(z-branch_points[branch_point2]))) * \\\n",
    "                       np.prod([z-zero_point for zero_point in zero_points]) / \\\n",
    "                       np.prod([np.sqrt(z-branch_point) for branch_point_id, branch_point \\\n",
    "                       in enumerate(branch_points) if branch_point_id not in [branch_point1, branch_point2]])\n",
    "    f2 = lambda z: np.log(z-(branch_points[branch_point1] + branch_points[branch_point2])/2 + \\\n",
    "                       np.sqrt((z-branch_points[branch_point1])*(z-branch_points[branch_point2]))) * \\\n",
    "                       np.sum([np.prod([(z-zero_point) for zero_point_id, zero_point in enumerate(zero_points) \\\n",
    "                       if zero_point_id != diff_zero_point_id])/ \\\n",
    "                       np.prod([np.sqrt(z-branch_point) for branch_point_id, branch_point \\\n",
    "                       in enumerate(branch_points) if branch_point_id not in [branch_point1, branch_point2]]) \\\n",
    "                       for diff_zero_point_id, diff_zero_point in enumerate(zero_points)]+ \\\n",
    "                       [np.prod([z-zero_point for zero_point in zero_points]) / \\\n",
    "                       np.prod([np.sqrt(z-branch_point) for branch_point_id, branch_point \\\n",
    "                       in enumerate(branch_points) if branch_point_id not in [branch_point1, branch_point2]]) / \\\n",
    "                       (z-diff_branch_point)*(-0.5) for diff_branch_point_id, diff_branch_point in enumerate(branch_points) \\\n",
    "                       if diff_branch_point_id not in [branch_point1, branch_point2] ])\n",
    "    \n",
    "    integral_part = f1(z1)-f1(z0)\n",
    "    numerical_part = np.complex(*tuple(integrate.quad(lambda t: f2(t*(z1-z0)+z0).real, 0, 1)))+1j*np.complex(*tuple(integrate.quad(lambda t: f2(t*(z1-z0)+z0).imag, 0, 1)))\n",
    "    \n",
    "    return integral_part - (z1-z0)*numerical_part   "
   ]
  },
  {
   "cell_type": "markdown",
   "metadata": {},
   "source": [
    "# Calculate the confromal transform on all branch points"
   ]
  },
  {
   "cell_type": "code",
   "execution_count": 4,
   "metadata": {
    "collapsed": true
   },
   "outputs": [],
   "source": [
    "def w_special_points(z_branch_points, z_zero_points):\n",
    "    w_branch_points = []\n",
    "    for branch_point_id, z_branch_point in enumerate(z_branch_points):\n",
    "        if branch_point_id==0:\n",
    "            w_branch_points.append(0)\n",
    "        else:            \n",
    "            w_branch_points.append(w_branch_points[branch_point_id-1] + \\\n",
    "            conformal_transform_difference_by_parts(\\\n",
    "            z_branch_points[branch_point_id-1],z_branch_points[branch_point_id],\\\n",
    "            branch_point_id-1,branch_point_id,z_branch_points,z_zero_points))\n",
    "    \n",
    "    w_zero_points = []        \n",
    "    for zero_point_id, z_zero_point in enumerate(z_zero_points):\n",
    "        nearest_branch_points = np.argsort(np.abs(np.asarray(z_branch_points)-z_zero_point))[:2]\n",
    "        w_zero_points.append(w_branch_points[nearest_branch_points[0]] + \\\n",
    "            conformal_transform_difference_by_parts(\\\n",
    "                z_branch_points[nearest_branch_points[0]],\\\n",
    "                z_zero_point,\\\n",
    "                nearest_branch_points[0],\\\n",
    "                nearest_branch_points[1],\\\n",
    "                z_branch_points,\n",
    "                z_zero_points))\n",
    "    return w_branch_points, w_zero_points"
   ]
  },
  {
   "cell_type": "markdown",
   "metadata": {},
   "source": [
    "# Function to find the zero points of the transform derivative from the potential of the ports"
   ]
  },
  {
   "cell_type": "code",
   "execution_count": 5,
   "metadata": {
    "collapsed": true
   },
   "outputs": [],
   "source": [
    "def find_zero_points(z_branch_points, z_zero_points_initial, z_zero_point_types, constraint_point_ids, constraint_types):\n",
    "    def constraint(t_zero_points):\n",
    "        w_branch_points, w_zero_points = w_special_points(z_branch_points, \\\n",
    "        [t if point_type=='real' else 1j*t for t,point_type in zip(t_zero_points, z_zero_point_types)]) \n",
    "        z_B,z_C,z_D,z_E,z_F,z_G,z_H,z_I = z_branch_points           \n",
    "        w_B,w_C,w_D,w_E,w_F,w_G,w_H,w_I = w_branch_points\n",
    "        constraint_values = \\\n",
    "        [w_branch_points[constraint_point_id[0]].real-w_branch_points[constraint_point_id[1]].real \\\n",
    "         if constraint_types[constraint_id] == 'real' else \\\n",
    "         w_branch_points[constraint_point_id[0]].imag-w_branch_points[constraint_point_id[1]].imag \\\n",
    "         for constraint_id, constraint_point_id in enumerate(constraint_point_ids)]\n",
    "        return constraint_values\n",
    "        \n",
    "    return root(constraint, z_zero_points_initial).x"
   ]
  },
  {
   "cell_type": "markdown",
   "metadata": {},
   "source": [
    "# Derivative of the conformal transform (defines the electric and magnetic fields)"
   ]
  },
  {
   "cell_type": "code",
   "execution_count": 6,
   "metadata": {
    "collapsed": true
   },
   "outputs": [],
   "source": [
    "def conformal_transform_derivative(z,z_branch_points,z_zero_points):\n",
    "    result = 1\n",
    "    for branch_point_id, branch_point in enumerate(z_branch_points):\n",
    "        result /= np.sqrt(z-branch_point)\n",
    "    for zero_point_id, zero_point in enumerate(z_zero_points):\n",
    "        result *= (z-zero_point)\n",
    "    return result"
   ]
  },
  {
   "cell_type": "markdown",
   "metadata": {},
   "source": [
    "# Defining geometric properties of the coplanar waveguide coupler"
   ]
  },
  {
   "cell_type": "code",
   "execution_count": 7,
   "metadata": {
    "collapsed": true
   },
   "outputs": [],
   "source": [
    "w = 10\n",
    "s = 6\n",
    "s1 = 6\n",
    "s2 = 12\n",
    "w1 = 10\n",
    "w2 = 20\n",
    "w3 = 5"
   ]
  },
  {
   "cell_type": "markdown",
   "metadata": {},
   "source": [
    "# Evaluating the conformal transform special points (zeros and branch points) if when of the nodes has a potential and all others are grounded (z-space & w-space)"
   ]
  },
  {
   "cell_type": "code",
   "execution_count": 8,
   "metadata": {
    "collapsed": false
   },
   "outputs": [],
   "source": [
    "z_branch_points = z_branch_points_cpw(s1,s2,w1,w2,w3)\n",
    "z_zero_points_initial = [(z_branch_points[4]+z_branch_points[5]).real/2, \\\n",
    "                         (z_branch_points[6]+z_branch_points[7]).real/2]\n",
    "z_zero_points = find_zero_points(z_branch_points, z_zero_points_initial, ['real', 'real'], \\\n",
    "                                        [(3,0),(5,0)], ['imag', 'imag'])\n",
    "w_branch_points, w_zero_points = w_special_points(z_branch_points, z_zero_points)\n",
    "z_B,z_C,z_D,z_E,z_F,z_G,z_H,z_I = z_branch_points\n",
    "w_B,w_C,w_D,w_E,w_F,w_G,w_H,w_I = w_branch_points\n",
    "z_F1,z_H1 = z_zero_points\n",
    "w_F1,w_H1 = w_zero_points"
   ]
  },
  {
   "cell_type": "markdown",
   "metadata": {},
   "source": [
    "# plotting conformal transform & fields"
   ]
  },
  {
   "cell_type": "code",
   "execution_count": 12,
   "metadata": {
    "collapsed": false
   },
   "outputs": [
    {
     "data": {
      "image/png": "[encoded data removed]",
      "text/plain": [
       "<matplotlib.figure.Figure at 0xa7812b0>"
      ]
     },
     "metadata": {},
     "output_type": "display_data"
    }
   ],
   "source": [
    "x = np.linspace(-(2*s2+2*s1+w1+w2+w3)*0.5,(2*s2+2*s1+w1+w2+w3)*1.5,251)\n",
    "y = np.linspace(0, (np.max(x)-np.min(x))*0.4, 201)\n",
    "\n",
    "plt.figure(0)\n",
    "plt.clf()\n",
    "axes=plt.subplot(2,1,1)\n",
    "vertices = [i for i in z_zero_points] + [i for i in z_branch_points]\n",
    "lines = [(z_B-100,z_B,'-'),(z_B,z_C,'--'),(z_C,z_D,'-'),(z_D,z_E,'--'),(z_E,z_F,'-'),\\\n",
    "         (z_F,z_F1,'-'),(z_F1,z_G,'--'),(z_G,z_H,'-'),(z_H,z_H1,'-'),(z_H1,z_I,'--'),(z_I,z_I+100,'-')]\n",
    "for z1,z2,style in lines:\n",
    "    plt.plot([z1.real, z2.real], [z1.imag, z2.imag], color='black', linestyle=style)\n",
    "\n",
    "plt.xlim(np.min(x), np.max(x))\n",
    "plt.ylim(-0.5*np.max(y), np.max(y))\n",
    "\n",
    "plt.scatter([j.real for j in vertices], [j.imag for j in vertices])\n",
    "\n",
    "[xm,ym] = np.meshgrid(x,y)\n",
    "um = conformal_transform_derivative(xm+1j*ym,z_branch_points,z_zero_points).real\n",
    "vm = conformal_transform_derivative(xm+1j*ym,z_branch_points,z_zero_points).imag\n",
    "wm = np.zeros(um.shape, dtype=np.complex)\n",
    "plt.streamplot(x,y,vm,um)\n",
    "\n",
    "annotations = ['B', 'C', 'D', 'E', 'F', 'F\\'', 'G', 'H', 'H\\'', 'I']\n",
    "annotation_positions = [(a*0.10+0.05, 0.05) for a in range(10)]\n",
    "annotation_points = [z_B,z_C,z_D,z_E,z_F,z_F1,z_G,z_H,z_H1,z_I]\n",
    "\n",
    "for annotation, annotation_position, annotation_point in zip(annotations, annotation_positions, annotation_points):\n",
    "    axes.annotate(annotation, xy=(annotation_point.real, annotation_point.imag), xytext=annotation_position, \n",
    "              xycoords='data',  textcoords='axes fraction', arrowprops={'facecolor':'black', 'shrink':0.05})\n",
    "    \n",
    "    \n",
    "axes=plt.subplot(2,1,2)\n",
    "vertices = [i for i in w_zero_points] + [i for i in w_branch_points]\n",
    "lines = [(w_B,w_C,'--'),(w_C,w_D,'-'),(w_D,w_E,'--'),(w_E,w_F,'-'),\\\n",
    "         (w_F,w_F1,'-'),(w_F1,w_G,'--'),(w_G,w_H,'-'),(w_H,w_H1,'-'),(w_H1,w_I,'--'),(w_I,w_B,'-')]\n",
    "for z1,z2,style in lines:\n",
    "    plt.plot([z1.real, z2.real], [z1.imag, z2.imag], color='black', linestyle=style)\n",
    "    \n",
    "plt.scatter([j.real for j in vertices], [j.imag for j in vertices])\n",
    "\n",
    "wx = np.linspace(w_E.real, w_B.real, 251)\n",
    "wy = np.linspace(w_B.imag, w_C.imag, 101)\n",
    "wxm,wym = np.meshgrid(wx,wy)\n",
    "wvm = 0*np.ones(wxm.shape)\n",
    "wum = 1*np.ones(wxm.shape)\n",
    "plt.streamplot(wxm,wym,wvm,wum)\n",
    "\n",
    "plt.xlim([w_E.real-(w_B.real-w_E.real)*0.2, w_B.real+(w_B.real-w_E.real)*0.2])\n",
    "plt.ylim([w_B.imag-(w_C.imag-w_B.imag)*0.4, w_C.imag+(w_C.imag-w_B.imag)*0.3])\n",
    "\n",
    "annotations = ['B', 'C', 'D', 'E', 'F', 'F\\'', 'G', 'H', 'H\\'', 'I']\n",
    "annotation_positions = [(0.95, 0.05), (0.95, 0.75), (0.05, 0.75), (0.05, 0.05), (0.125, 0.05), \\\n",
    "                        (0.20, 0.05), (0.275, 0.05), (0.35, 0.05), (0.425, 0.05), (0.5, 0.05),]\n",
    "annotation_points = [w_B,w_C,w_D,w_E,w_F,w_F1,w_G,w_H,w_H1,w_I]\n",
    "\n",
    "for annotation, annotation_position, annotation_point in zip(annotations, annotation_positions, annotation_points):\n",
    "    axes.annotate(annotation, xy=(annotation_point.real, annotation_point.imag), xytext=annotation_position, \n",
    "              xycoords='data',  textcoords='axes fraction', arrowprops={'facecolor':'black', 'shrink':0.05})"
   ]
  },
  {
   "cell_type": "markdown",
   "metadata": {},
   "source": [
    "# Putting the potential on each of the waveguides and evaluating the capacitance matrix vector"
   ]
  },
  {
   "cell_type": "code",
   "execution_count": 10,
   "metadata": {
    "collapsed": true
   },
   "outputs": [],
   "source": [
    "z_branch_points = z_branch_points_cpw(s1,s2,w1,w2,w3)\n",
    "z_zero_points_initial = [(z_branch_points[4]+z_branch_points[5]).real/2, \\\n",
    "                         (z_branch_points[6]+z_branch_points[7]).real/2]\n",
    "z_zero_points = find_zero_points(z_branch_points, z_zero_points_initial, ['real', 'real'], \\\n",
    "                                        [(3,0),(5,0)], ['imag', 'imag'])\n",
    "w_branch_points, w_zero_points = w_special_points(z_branch_points, z_zero_points)\n",
    "w_B,w_C,w_D,w_E,w_F,w_G,w_H,w_I = w_branch_points\n",
    "c1_ = [(w_C.real-w_D.real)/(w_C.imag-w_B.imag), (w_G.real-w_H.real)/(w_C.imag-w_B.imag)]\n",
    "\n",
    "z_branch_points = z_branch_points_cpw(s2,s1,w2,w1,w3)\n",
    "z_zero_points_initial = [(z_branch_points[4]+z_branch_points[5]).real/2, \\\n",
    "                         (z_branch_points[6]+z_branch_points[7]).real/2]\n",
    "z_zero_points = find_zero_points(z_branch_points, z_zero_points_initial, ['real', 'real'], \\\n",
    "                                        [(3,0),(5,0)], ['imag', 'imag'])\n",
    "w_branch_points, w_zero_points = w_special_points(z_branch_points, z_zero_points)\n",
    "w_B,w_C,w_D,w_E,w_F,w_G,w_H,w_I = w_branch_points\n",
    "c2_ = [(w_G.real-w_H.real)/(w_C.imag-w_B.imag), (w_C.real-w_D.real)/(w_C.imag-w_B.imag)]\n",
    "\n",
    "C_dimensionless = np.asarray([c1_, c2_])\n",
    "L_dimensionless = np.linalg.inv(np.asarray(C_dimensionless))"
   ]
  },
  {
   "cell_type": "markdown",
   "metadata": {},
   "source": [
    "# Converting dimensionless capacitance and inductance to SI and multipling by relative permittivities"
   ]
  },
  {
   "cell_type": "code",
   "execution_count": 13,
   "metadata": {
    "collapsed": false
   },
   "outputs": [],
   "source": [
    "epsilon_eff = 6.45\n",
    "C_l = 2*C_dimensionless*epsilon_0*epsilon_eff\n",
    "L_l = L_dimensionless*mu_0/2"
   ]
  },
  {
   "cell_type": "markdown",
   "metadata": {},
   "source": [
    "# Mutual linear capacitance density matrix, F/m"
   ]
  },
  {
   "cell_type": "code",
   "execution_count": 14,
   "metadata": {
    "collapsed": false
   },
   "outputs": [
    {
     "data": {
      "text/plain": [
       "array([[  1.68853488e-10,  -1.69303012e-11],\n",
       "       [ -1.69303011e-11,   1.68187296e-10]])"
      ]
     },
     "execution_count": 14,
     "metadata": {},
     "output_type": "execute_result"
    }
   ],
   "source": [
    "C_l"
   ]
  },
  {
   "cell_type": "markdown",
   "metadata": {},
   "source": [
    "# Mutual linear inductance density matrix, Hn/m"
   ]
  },
  {
   "cell_type": "code",
   "execution_count": 15,
   "metadata": {
    "collapsed": false
   },
   "outputs": [
    {
     "data": {
      "text/plain": [
       "array([[  4.29352441e-07,   4.32200666e-08],\n",
       "       [  4.32200665e-08,   4.31053112e-07]])"
      ]
     },
     "execution_count": 15,
     "metadata": {},
     "output_type": "execute_result"
    }
   ],
   "source": [
    "L_l"
   ]
  }
 ],
 "metadata": {
  "kernelspec": {
   "display_name": "Python 3",
   "language": "python",
   "name": "python3"
  },
  "language_info": {
   "codemirror_mode": {
    "name": "ipython",
    "version": 3
   },
   "file_extension": ".py",
   "mimetype": "text/x-python",
   "name": "python",
   "nbconvert_exporter": "python",
   "pygments_lexer": "ipython3",
   "version": "3.4.5"
  }
 },
 "nbformat": 4,
 "nbformat_minor": 0
}
