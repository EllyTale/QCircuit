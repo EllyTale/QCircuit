{
 "cells": [
  {
   "cell_type": "code",
   "execution_count": 2,
   "metadata": {},
   "outputs": [],
   "source": [
    "from QCircuit import *\n",
    "import numpy as np\n",
    "from matplotlib import pyplot as plt\n",
    "from scipy import constants\n",
    "%matplotlib inline"
   ]
  },
  {
   "cell_type": "code",
   "execution_count": 20,
   "metadata": {},
   "outputs": [
    {
     "name": "stderr",
     "output_type": "stream",
     "text": [
      "C:\\Users\\iliab\\AppData\\Local\\Temp\\ipykernel_4928\\917644086.py:27: DeprecationWarning: `np.float` is a deprecated alias for the builtin `float`. To silence this warning, use `float` by itself. Doing this will not modify any behavior and is safe. If you specifically wanted the numpy scalar type, use `np.float64` here.\n",
      "Deprecated in NumPy 1.20; for more details and guidance: https://numpy.org/devdocs/release/1.20.0-notes.html#deprecations\n",
      "  energies = np.zeros((voltage_steps,4), dtype=np.float)\n",
      "C:\\Users\\iliab\\AppData\\Local\\Temp\\ipykernel_4928\\917644086.py:48: ComplexWarning: Casting complex values to real discards the imaginary part\n",
      "  energies[UxE_id, :] = eigenenergies\n"
     ]
    }
   ],
   "source": [
    "FQ3JJ = QCircuit()\n",
    "FQ3JJ.add_element(QJosephsonJunction('JJ1'), ['GND', '1'])\n",
    "FQ3JJ.add_element(QJosephsonJunction('JJ2'), ['1', '2'])\n",
    "FQ3JJ.add_element(QCapacitance('C'), ['GND', '1'])\n",
    "        \n",
    "phi = QVariable('φ')\n",
    "phixH = QVariable('φxH')\n",
    "phixE = QVariable('φxE')\n",
    "#phix2 = QVariable('φx2')\n",
    "phi.create_grid(32, 1)\n",
    "FQ3JJ.add_variable(phi)\n",
    "FQ3JJ.add_variable(phixH)\n",
    "FQ3JJ.add_variable(phixE)\n",
    "#FQ3JJ.add_variable(phix2)\n",
    "#FQ3JJ.map_nodes_linear(['GND', '1', '2', '3'], \n",
    "#                       ['φ', 'φx1', 'φx2'], \n",
    "#                       np.asarray([[0,0,0],[1,0,0],[1,1,0],[1,1,1]]))\n",
    "\n",
    "FQ3JJ.map_nodes_linear(['GND', '1', '2'], \n",
    "                       ['φ', 'φxH', 'φxE'], \n",
    "                       np.asarray([[0,0,1],[1,0,0],[0,1,1]]))\n",
    "\n",
    "#EjEc_ratio = 80\n",
    "flux_steps = 1\n",
    "voltage_steps = 128\n",
    "#energies = np.zeros((flux_steps,flux_steps,2), dtype=np.float)\n",
    "energies = np.zeros((voltage_steps,4), dtype=np.float)\n",
    "\n",
    "Ej = 20e9\n",
    "Ec = 1.9e-19**2/100e-15/(2*2*np.pi*1.054e-34)\n",
    "# Ec = 1e9*8\n",
    "FQ3JJ.find_element('JJ1').set_critical_current(Ej)\n",
    "FQ3JJ.find_element('JJ2').set_critical_current(Ej)\n",
    "FQ3JJ.find_element('C').set_capacitance(1/(8*Ec))\n",
    "phixH_value = np.pi*2/3\n",
    "# for ng_id, ng in enumerate(np.linspace(-2, 2, voltage_steps)):\n",
    "#     phi.create_grid(32, 1, centre_charge=ng)\n",
    "for UxE_id, UxE_value in enumerate(np.linspace(-2, 2, voltage_steps)/2*Ec):\n",
    "#for phix_id, phix_value in enumerate(np.linspace(-0.5*np.pi, 0.5*np.pi, flux_steps)):\n",
    "    #for phix2_id, phix2_value in enumerate(np.linspace(-2*np.pi, 2*np.pi, flux_steps)):\n",
    "    phixH.set_parameter(phixH_value, 0)\n",
    "    phixE.set_parameter(0, UxE_value)\n",
    "#     phixE.set_parameter(0, 0)\n",
    "        #phix2.set_parameter(phix2_value, 0)\n",
    "    FQ3JJ.calculate_potentials()\n",
    "    [eigenenergies, eigenfunctions] = FQ3JJ.diagonalize_phase(num_states=4)\n",
    "    #energies[phix1_id, phix2_id, :] = eigenenergies\n",
    "    energies[UxE_id, :] = eigenenergies\n",
    "#     energies[UxE_id, :] = eigenenergies\n",
    "    #print('φx1_id: {0}, φx2_id: {1}, gap: {2}'.format(phix1_id, phix2_id, eigenenergies[1]-eigenenergies[0]))"
   ]
  },
  {
   "cell_type": "code",
   "execution_count": 21,
   "metadata": {},
   "outputs": [
    {
     "data": {
      "text/plain": [
       "0.27255661506724005"
      ]
     },
     "execution_count": 21,
     "metadata": {},
     "output_type": "execute_result"
    }
   ],
   "source": [
    "Ec/1e9"
   ]
  },
  {
   "cell_type": "code",
   "execution_count": 22,
   "metadata": {},
   "outputs": [
    {
     "data": {
      "text/plain": [
       "array([[ 2.18045292e+09, -0.00000000e+00,  1.00000000e+00],\n",
       "       [-0.00000000e+00,  0.00000000e+00,  0.00000000e+00],\n",
       "       [ 1.00000000e+00,  0.00000000e+00,  4.58620313e-10]])"
      ]
     },
     "execution_count": 22,
     "metadata": {},
     "output_type": "execute_result"
    }
   ],
   "source": [
    "FQ3JJ.capacitance_matrix_legendre_transform()"
   ]
  },
  {
   "cell_type": "code",
   "execution_count": 23,
   "metadata": {},
   "outputs": [
    {
     "data": {
      "text/plain": [
       "[<matplotlib.lines.Line2D at 0x2ed602cf910>]"
      ]
     },
     "execution_count": 23,
     "metadata": {},
     "output_type": "execute_result"
    },
    {
     "data": {
      "image/png": "[encoded data removed]",
      "text/plain": [
       "<Figure size 432x288 with 1 Axes>"
      ]
     },
     "metadata": {
      "needs_background": "light"
     },
     "output_type": "display_data"
    }
   ],
   "source": [
    "plt.plot((energies[:,1]-energies[:,0]))\n",
    "# plt.plot((energies[:,2]-energies[:,1]))\n",
    "#plt.plot((energies[:,3]-energies[:,2]))"
   ]
  },
  {
   "cell_type": "code",
   "execution_count": 35,
   "metadata": {},
   "outputs": [
    {
     "data": {
      "text/plain": [
       "[<matplotlib.lines.Line2D at 0x134fbd21670>,\n",
       " <matplotlib.lines.Line2D at 0x134fbd216d0>,\n",
       " <matplotlib.lines.Line2D at 0x134fbd217f0>,\n",
       " <matplotlib.lines.Line2D at 0x134fbd16580>]"
      ]
     },
     "execution_count": 35,
     "metadata": {},
     "output_type": "execute_result"
    },
    {
     "data": {
      "image/png": "[encoded data removed]",
      "text/plain": [
       "<Figure size 432x288 with 1 Axes>"
      ]
     },
     "metadata": {
      "needs_background": "light"
     },
     "output_type": "display_data"
    }
   ],
   "source": [
    "plt.plot(energies)"
   ]
  },
  {
   "cell_type": "code",
   "execution_count": 36,
   "metadata": {},
   "outputs": [
    {
     "data": {
      "text/plain": [
       "array([[-2.00000000e+00,  9.92233904e-01, -1.00058850e-14,\n",
       "        -9.73663626e-03],\n",
       "       [ 9.92233904e-01, -2.00000000e+00,  2.38662643e+00,\n",
       "         1.80815085e-12],\n",
       "       [-1.00058850e-14,  2.38662643e+00, -2.00000000e+00,\n",
       "         1.11186535e+00],\n",
       "       [-9.73663626e-03,  1.80806758e-12,  1.11186535e+00,\n",
       "        -2.00000000e+00]])"
      ]
     },
     "execution_count": 36,
     "metadata": {},
     "output_type": "execute_result"
    }
   ],
   "source": [
    "np.real(FQ3JJ.get_charge_operator(eigenfunctions, phi))"
   ]
  },
  {
   "cell_type": "code",
   "execution_count": 37,
   "metadata": {},
   "outputs": [
    {
     "data": {
      "text/plain": [
       "array([[ 1.04719755e+00,  2.37311791e-01,  2.04313462e-09,\n",
       "         1.21240120e-03],\n",
       "       [ 2.37311791e-01,  1.04719755e+00, -5.48401212e-02,\n",
       "         5.16021596e-08],\n",
       "       [ 2.04313463e-09, -5.48401212e-02,  1.04719742e+00,\n",
       "         4.75682906e-01],\n",
       "       [ 1.21240120e-03,  5.16021596e-08,  4.75682906e-01,\n",
       "         1.04719513e+00]])"
      ]
     },
     "execution_count": 37,
     "metadata": {},
     "output_type": "execute_result"
    }
   ],
   "source": [
    "np.real(FQ3JJ.get_phase_operator(eigenfunctions, phi))"
   ]
  },
  {
   "cell_type": "code",
   "execution_count": 38,
   "metadata": {},
   "outputs": [
    {
     "name": "stderr",
     "output_type": "stream",
     "text": [
      "C:\\Users\\iliab\\anaconda3\\lib\\site-packages\\matplotlib\\cbook\\__init__.py:1298: ComplexWarning: Casting complex values to real discards the imaginary part\n",
      "  return np.asarray(x, float)\n",
      "C:\\Users\\iliab\\anaconda3\\lib\\site-packages\\matplotlib\\cbook\\__init__.py:1298: ComplexWarning: Casting complex values to real discards the imaginary part\n",
      "  return np.asarray(x, float)\n"
     ]
    },
    {
     "data": {
      "text/plain": [
       "[<matplotlib.lines.Line2D at 0x134fbd8d6d0>]"
      ]
     },
     "execution_count": 38,
     "metadata": {},
     "output_type": "execute_result"
    },
    {
     "data": {
      "image/png": "[encoded data removed]",
      "text/plain": [
       "<Figure size 432x288 with 1 Axes>"
      ]
     },
     "metadata": {
      "needs_background": "light"
     },
     "output_type": "display_data"
    }
   ],
   "source": [
    "plt.plot(eigenfunctions[..., 0].ravel())\n",
    "plt.plot(eigenfunctions[..., 1].ravel())"
   ]
  },
  {
   "cell_type": "code",
   "execution_count": 31,
   "metadata": {},
   "outputs": [
    {
     "data": {
      "text/plain": [
       "[<matplotlib.lines.Line2D at 0x134fbc3f850>]"
      ]
     },
     "execution_count": 31,
     "metadata": {},
     "output_type": "execute_result"
    },
    {
     "data": {
      "image/png": "[encoded data removed]",
      "text/plain": [
       "<Figure size 432x288 with 1 Axes>"
      ]
     },
     "metadata": {
      "needs_background": "light"
     },
     "output_type": "display_data"
    }
   ],
   "source": [
    "plt.plot(FQ3JJ.phase_potential.ravel())"
   ]
  },
  {
   "cell_type": "code",
   "execution_count": null,
   "metadata": {},
   "outputs": [],
   "source": []
  }
 ],
 "metadata": {
  "kernelspec": {
   "display_name": "Python 3 (ipykernel)",
   "language": "python",
   "name": "python3"
  },
  "language_info": {
   "codemirror_mode": {
    "name": "ipython",
    "version": 3
   },
   "file_extension": ".py",
   "mimetype": "text/x-python",
   "name": "python",
   "nbconvert_exporter": "python",
   "pygments_lexer": "ipython3",
   "version": "3.9.12"
  }
 },
 "nbformat": 4,
 "nbformat_minor": 1
}
